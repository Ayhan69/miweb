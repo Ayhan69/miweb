{
 "cells": [
  {
   "cell_type": "code",
   "execution_count": null,
   "id": "1a00cb62",
   "metadata": {},
   "outputs": [],
   "source": [
    "## este es un archivo de jupyter notebook"
   ]
  },
  {
   "cell_type": "code",
   "execution_count": null,
   "id": "f52fd8f7",
   "metadata": {},
   "outputs": [],
   "source": [
    "# Programa para sumar dos números\n",
    "\n",
    "# Pide al usuario que ingrese el primer número\n",
    "num1 = float(input(\"Ingresa el primer número: \"))\n",
    "\n",
    "# Pide al usuario que ingrese el segundo número\n",
    "num2 = float(input(\"Ingresa el segundo número: \"))\n",
    "\n",
    "# Calcula la suma\n",
    "suma = num1 + num2\n",
    "\n",
    "# Muestra el resultado\n",
    "print(\"La suma de\", num1, \"y\", num2, \"es:\", suma)\n",
    "\n",
    "\n",
    "## esta linea la vamos a tener que revertir en el siguiente cambiosffffffffffffffffff\n"
   ]
  }
 ],
 "metadata": {
  "language_info": {
   "name": "python"
  }
 },
 "nbformat": 4,
 "nbformat_minor": 5
}
